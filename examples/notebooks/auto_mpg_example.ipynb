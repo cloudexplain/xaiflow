{
 "cells": [
  {
   "cell_type": "code",
   "execution_count": null,
   "id": "79de156f",
   "metadata": {},
   "outputs": [
    {
     "name": "stderr",
     "output_type": "stream",
     "text": [
      "/home/tobias/programming/cloudexplain/ce-mlflow-extension/ce-mlflow-extension/.venv/lib/python3.12/site-packages/tqdm/auto.py:21: TqdmWarning: IProgress not found. Please update jupyter and ipywidgets. See https://ipywidgets.readthedocs.io/en/stable/user_install.html\n",
      "  from .autonotebook import tqdm as notebook_tqdm\n"
     ]
    }
   ],
   "source": [
    "import mlflow\n",
    "import shap\n",
    "from sklearn.ensemble import RandomForestRegressor\n",
    "from sklearn.model_selection import train_test_split\n",
    "from sklearn.datasets import fetch_openml\n",
    "from sklearn.preprocessing import LabelEncoder\n",
    "\n",
    "\n",
    "from xaiflow import XaiflowPlugin"
   ]
  },
  {
   "cell_type": "code",
   "execution_count": 2,
   "id": "11d93bf4",
   "metadata": {},
   "outputs": [],
   "source": [
    "# Load the Auto MPG dataset\n",
    "data = fetch_openml(data_id=196, as_frame=True)\n",
    "X = data.data.copy()\n",
    "y = data.target"
   ]
  },
  {
   "cell_type": "code",
   "execution_count": null,
   "id": "0da5d7e2",
   "metadata": {},
   "outputs": [
    {
     "name": "stdout",
     "output_type": "stream",
     "text": [
      "Loaded bundle.js content (218107 characters)\n",
      "Saved report data to test_report_data.json\n",
      "logged to test_report.html\n",
      "Feature importance report logged to MLflow: reports/test_report_auto_mpg.html\n",
      "Run ID: 72ea715bfe9c42bc840388933f6999a8. If you are running mlflow locally use:\n",
      "python -m mlflow ui --port 5000\n",
      "Then open http://localhost:5000/#/experiments/921177506761828334/runs/72ea715bfe9c42bc840388933f6999a8 to view the report.\n"
     ]
    }
   ],
   "source": [
    "experiment_name = \"Xaiflow_Auto_MPG_Test\"\n",
    "mlflow.set_experiment(experiment_name=experiment_name)\n",
    "with mlflow.start_run(run_name=\"auto_mpg_test\"):\n",
    "    # Identify categorical columns\n",
    "    categorical_cols = [col for col in X.columns if X[col].dtype == 'category' or X[col].dtype == 'object']\n",
    "    numeric_cols = [col for col in X.columns if col not in categorical_cols]\n",
    "\n",
    "    label_encoders = {}\n",
    "\n",
    "    # Fill missing values manually\n",
    "    for col in numeric_cols:\n",
    "        X[col] = X[col].astype(float).fillna(X[col].mean())\n",
    "    for col in categorical_cols:\n",
    "        le = LabelEncoder()\n",
    "        X[col + '_encoded'] = le.fit_transform(X[col].astype(str))  # convert to string in case of NaNs\n",
    "        label_encoders[col] = le  # Save encoder if needed later\n",
    "\n",
    "    # Train model\n",
    "    rfc = RandomForestRegressor()\n",
    "    rfc.fit(X, y)\n",
    "    ex = shap.TreeExplainer(rfc)\n",
    "    shap_values = ex(X)\n",
    "    plugin = XaiflowPlugin()\n",
    "\n",
    "    feature_encodings = {}\n",
    "    for col in categorical_cols:\n",
    "        feature_encodings[col + '_encoded'] = dict(zip(range(len(label_encoders[col].classes_)), label_encoders[col].classes_))\n",
    "    feature_encodings = {'cylinders_encoded': {0: '3', 1: '4', 2: '5', 3: '6', 4: '8'},\n",
    "                            'model_encoded': {0: 'Super 70', 1: 'Super 71', 2: 'Low 72', 3: 'Nice 73', 4: 'Great 74', 5: 'Lame 75', 6: 'High 76', 7: '77', 8: '78', 9: '79', 10: '80', 11: '81', 12: '82'},\n",
    "                            'origin_encoded': {0: 'Afghanistan', 1: 'Bangladesh', 2: 'Maui'}}\n",
    "    artifact_path = plugin.log_feature_importance_report(\n",
    "        feature_names=list(X.columns),\n",
    "        shap_values=shap_values,\n",
    "        report_name=\"test_report_auto_mpg.html\",\n",
    "        feature_encodings=feature_encodings\n",
    "    )\n",
    "    run_id = mlflow.active_run().info.run_id\n",
    "    print(f\"Run ID: {run_id}. If you are running mlflow locally use:\\npython -m mlflow ui --port 5000\\nThen open http://localhost:5000/#/experiments/{mlflow.get_experiment_by_name(experiment_name).experiment_id}/runs/{run_id} to view the report.\",\n",
    "          \"Note: it's important to start mlflow in the directory in which you execute the notebook.\")"
   ]
  }
 ],
 "metadata": {
  "kernelspec": {
   "display_name": ".venv",
   "language": "python",
   "name": "python3"
  },
  "language_info": {
   "codemirror_mode": {
    "name": "ipython",
    "version": 3
   },
   "file_extension": ".py",
   "mimetype": "text/x-python",
   "name": "python",
   "nbconvert_exporter": "python",
   "pygments_lexer": "ipython3",
   "version": "3.12.3"
  }
 },
 "nbformat": 4,
 "nbformat_minor": 5
}
