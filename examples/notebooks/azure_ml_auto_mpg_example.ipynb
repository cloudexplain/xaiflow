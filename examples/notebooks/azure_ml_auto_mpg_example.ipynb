{
  "cells": [
    {
      "cell_type": "code",
      "execution_count": 1,
      "metadata": {
        "gather": {
          "logged": 1752748275242
        }
      },
      "outputs": [
        {
          "name": "stdout",
          "output_type": "stream",
          "text": [
            "Requirement already satisfied: shap in /anaconda/envs/azureml_py310_sdkv2/lib/python3.10/site-packages (0.48.0)\n",
            "Requirement already satisfied: numpy in /anaconda/envs/azureml_py310_sdkv2/lib/python3.10/site-packages (from shap) (2.2.6)\n",
            "Requirement already satisfied: scipy in /anaconda/envs/azureml_py310_sdkv2/lib/python3.10/site-packages (from shap) (1.15.3)\n",
            "Requirement already satisfied: scikit-learn in /anaconda/envs/azureml_py310_sdkv2/lib/python3.10/site-packages (from shap) (1.6.1)\n",
            "Requirement already satisfied: pandas in /anaconda/envs/azureml_py310_sdkv2/lib/python3.10/site-packages (from shap) (2.3.1)\n",
            "Requirement already satisfied: tqdm>=4.27.0 in /anaconda/envs/azureml_py310_sdkv2/lib/python3.10/site-packages (from shap) (4.67.1)\n",
            "Requirement already satisfied: packaging>20.9 in /anaconda/envs/azureml_py310_sdkv2/lib/python3.10/site-packages (from shap) (24.2)\n",
            "Requirement already satisfied: slicer==0.0.8 in /anaconda/envs/azureml_py310_sdkv2/lib/python3.10/site-packages (from shap) (0.0.8)\n",
            "Requirement already satisfied: numba>=0.54 in /anaconda/envs/azureml_py310_sdkv2/lib/python3.10/site-packages (from shap) (0.61.2)\n",
            "Requirement already satisfied: cloudpickle in /anaconda/envs/azureml_py310_sdkv2/lib/python3.10/site-packages (from shap) (2.2.1)\n",
            "Requirement already satisfied: typing-extensions in /anaconda/envs/azureml_py310_sdkv2/lib/python3.10/site-packages (from shap) (4.13.2)\n",
            "Requirement already satisfied: llvmlite<0.45,>=0.44.0dev0 in /anaconda/envs/azureml_py310_sdkv2/lib/python3.10/site-packages (from numba>=0.54->shap) (0.44.0)\n",
            "Requirement already satisfied: python-dateutil>=2.8.2 in /anaconda/envs/azureml_py310_sdkv2/lib/python3.10/site-packages (from pandas->shap) (2.9.0.post0)\n",
            "Requirement already satisfied: pytz>=2020.1 in /anaconda/envs/azureml_py310_sdkv2/lib/python3.10/site-packages (from pandas->shap) (2025.2)\n",
            "Requirement already satisfied: tzdata>=2022.7 in /anaconda/envs/azureml_py310_sdkv2/lib/python3.10/site-packages (from pandas->shap) (2025.2)\n",
            "Requirement already satisfied: joblib>=1.2.0 in /anaconda/envs/azureml_py310_sdkv2/lib/python3.10/site-packages (from scikit-learn->shap) (1.4.2)\n",
            "Requirement already satisfied: threadpoolctl>=3.1.0 in /anaconda/envs/azureml_py310_sdkv2/lib/python3.10/site-packages (from scikit-learn->shap) (3.6.0)\n",
            "Requirement already satisfied: six>=1.5 in /anaconda/envs/azureml_py310_sdkv2/lib/python3.10/site-packages (from python-dateutil>=2.8.2->pandas->shap) (1.17.0)\n",
            "Requirement already satisfied: numpy in /anaconda/envs/azureml_py310_sdkv2/lib/python3.10/site-packages (2.2.6)\n",
            "Requirement already satisfied: scipy in /anaconda/envs/azureml_py310_sdkv2/lib/python3.10/site-packages (1.15.3)\n",
            "Requirement already satisfied: pandas in /anaconda/envs/azureml_py310_sdkv2/lib/python3.10/site-packages (2.3.1)\n",
            "Requirement already satisfied: python-dateutil>=2.8.2 in /anaconda/envs/azureml_py310_sdkv2/lib/python3.10/site-packages (from pandas) (2.9.0.post0)\n",
            "Requirement already satisfied: pytz>=2020.1 in /anaconda/envs/azureml_py310_sdkv2/lib/python3.10/site-packages (from pandas) (2025.2)\n",
            "Requirement already satisfied: tzdata>=2022.7 in /anaconda/envs/azureml_py310_sdkv2/lib/python3.10/site-packages (from pandas) (2025.2)\n",
            "Requirement already satisfied: six>=1.5 in /anaconda/envs/azureml_py310_sdkv2/lib/python3.10/site-packages (from python-dateutil>=2.8.2->pandas) (1.17.0)\n"
          ]
        }
      ],
      "source": [
        "import sys\n",
        "!{sys.executable} -m pip install shap\n",
        "!{sys.executable} -m pip install --upgrade numpy scipy pandas"
      ]
    },
    {
      "cell_type": "code",
      "execution_count": 2,
      "metadata": {
        "gather": {
          "logged": 1752748081370
        }
      },
      "outputs": [
        {
          "name": "stdout",
          "output_type": "stream",
          "text": [
            "Requirement already satisfied: mlflow in /anaconda/envs/azureml_py310_sdkv2/lib/python3.10/site-packages (2.21.3)\n",
            "Requirement already satisfied: scikit-learn in /anaconda/envs/azureml_py310_sdkv2/lib/python3.10/site-packages (1.6.1)\n",
            "Requirement already satisfied: mlflow-skinny==2.21.3 in /anaconda/envs/azureml_py310_sdkv2/lib/python3.10/site-packages (from mlflow) (2.21.3)\n",
            "Requirement already satisfied: Flask<4 in /anaconda/envs/azureml_py310_sdkv2/lib/python3.10/site-packages (from mlflow) (3.1.0)\n",
            "Requirement already satisfied: Jinja2<4,>=2.11 in /anaconda/envs/azureml_py310_sdkv2/lib/python3.10/site-packages (from mlflow) (3.1.6)\n",
            "Requirement already satisfied: alembic!=1.10.0,<2 in /anaconda/envs/azureml_py310_sdkv2/lib/python3.10/site-packages (from mlflow) (1.15.2)\n",
            "Requirement already satisfied: docker<8,>=4.0.0 in /anaconda/envs/azureml_py310_sdkv2/lib/python3.10/site-packages (from mlflow) (7.1.0)\n",
            "Requirement already satisfied: graphene<4 in /anaconda/envs/azureml_py310_sdkv2/lib/python3.10/site-packages (from mlflow) (3.4.3)\n",
            "Requirement already satisfied: gunicorn<24 in /anaconda/envs/azureml_py310_sdkv2/lib/python3.10/site-packages (from mlflow) (23.0.0)\n",
            "Requirement already satisfied: markdown<4,>=3.3 in /anaconda/envs/azureml_py310_sdkv2/lib/python3.10/site-packages (from mlflow) (3.8)\n",
            "Requirement already satisfied: matplotlib<4 in /anaconda/envs/azureml_py310_sdkv2/lib/python3.10/site-packages (from mlflow) (3.10.1)\n",
            "Requirement already satisfied: numpy<3 in /anaconda/envs/azureml_py310_sdkv2/lib/python3.10/site-packages (from mlflow) (2.2.6)\n",
            "Requirement already satisfied: pandas<3 in /anaconda/envs/azureml_py310_sdkv2/lib/python3.10/site-packages (from mlflow) (2.3.1)\n",
            "Requirement already satisfied: pyarrow<20,>=4.0.0 in /anaconda/envs/azureml_py310_sdkv2/lib/python3.10/site-packages (from mlflow) (19.0.1)\n",
            "Requirement already satisfied: scipy<2 in /anaconda/envs/azureml_py310_sdkv2/lib/python3.10/site-packages (from mlflow) (1.15.3)\n",
            "Requirement already satisfied: sqlalchemy<3,>=1.4.0 in /anaconda/envs/azureml_py310_sdkv2/lib/python3.10/site-packages (from mlflow) (2.0.40)\n",
            "Requirement already satisfied: cachetools<6,>=5.0.0 in /anaconda/envs/azureml_py310_sdkv2/lib/python3.10/site-packages (from mlflow-skinny==2.21.3->mlflow) (5.5.2)\n",
            "Requirement already satisfied: click<9,>=7.0 in /anaconda/envs/azureml_py310_sdkv2/lib/python3.10/site-packages (from mlflow-skinny==2.21.3->mlflow) (8.1.8)\n",
            "Requirement already satisfied: cloudpickle<4 in /anaconda/envs/azureml_py310_sdkv2/lib/python3.10/site-packages (from mlflow-skinny==2.21.3->mlflow) (2.2.1)\n",
            "Requirement already satisfied: databricks-sdk<1,>=0.20.0 in /anaconda/envs/azureml_py310_sdkv2/lib/python3.10/site-packages (from mlflow-skinny==2.21.3->mlflow) (0.50.0)\n",
            "Requirement already satisfied: fastapi<1 in /anaconda/envs/azureml_py310_sdkv2/lib/python3.10/site-packages (from mlflow-skinny==2.21.3->mlflow) (0.115.12)\n",
            "Requirement already satisfied: gitpython<4,>=3.1.9 in /anaconda/envs/azureml_py310_sdkv2/lib/python3.10/site-packages (from mlflow-skinny==2.21.3->mlflow) (3.1.44)\n",
            "Requirement already satisfied: importlib_metadata!=4.7.0,<9,>=3.7.0 in /anaconda/envs/azureml_py310_sdkv2/lib/python3.10/site-packages (from mlflow-skinny==2.21.3->mlflow) (8.6.1)\n",
            "Requirement already satisfied: opentelemetry-api<3,>=1.9.0 in /anaconda/envs/azureml_py310_sdkv2/lib/python3.10/site-packages (from mlflow-skinny==2.21.3->mlflow) (1.31.1)\n",
            "Requirement already satisfied: opentelemetry-sdk<3,>=1.9.0 in /anaconda/envs/azureml_py310_sdkv2/lib/python3.10/site-packages (from mlflow-skinny==2.21.3->mlflow) (1.31.1)\n",
            "Requirement already satisfied: packaging<25 in /anaconda/envs/azureml_py310_sdkv2/lib/python3.10/site-packages (from mlflow-skinny==2.21.3->mlflow) (24.2)\n",
            "Requirement already satisfied: protobuf<6,>=3.12.0 in /anaconda/envs/azureml_py310_sdkv2/lib/python3.10/site-packages (from mlflow-skinny==2.21.3->mlflow) (5.29.4)\n",
            "Requirement already satisfied: pydantic<3,>=1.10.8 in /anaconda/envs/azureml_py310_sdkv2/lib/python3.10/site-packages (from mlflow-skinny==2.21.3->mlflow) (2.11.3)\n",
            "Requirement already satisfied: pyyaml<7,>=5.1 in /anaconda/envs/azureml_py310_sdkv2/lib/python3.10/site-packages (from mlflow-skinny==2.21.3->mlflow) (6.0.2)\n",
            "Requirement already satisfied: requests<3,>=2.17.3 in /anaconda/envs/azureml_py310_sdkv2/lib/python3.10/site-packages (from mlflow-skinny==2.21.3->mlflow) (2.32.3)\n",
            "Requirement already satisfied: sqlparse<1,>=0.4.0 in /anaconda/envs/azureml_py310_sdkv2/lib/python3.10/site-packages (from mlflow-skinny==2.21.3->mlflow) (0.5.3)\n",
            "Requirement already satisfied: typing-extensions<5,>=4.0.0 in /anaconda/envs/azureml_py310_sdkv2/lib/python3.10/site-packages (from mlflow-skinny==2.21.3->mlflow) (4.13.2)\n",
            "Requirement already satisfied: uvicorn<1 in /anaconda/envs/azureml_py310_sdkv2/lib/python3.10/site-packages (from mlflow-skinny==2.21.3->mlflow) (0.34.2)\n",
            "Requirement already satisfied: joblib>=1.2.0 in /anaconda/envs/azureml_py310_sdkv2/lib/python3.10/site-packages (from scikit-learn) (1.4.2)\n",
            "Requirement already satisfied: threadpoolctl>=3.1.0 in /anaconda/envs/azureml_py310_sdkv2/lib/python3.10/site-packages (from scikit-learn) (3.6.0)\n",
            "Requirement already satisfied: Mako in /anaconda/envs/azureml_py310_sdkv2/lib/python3.10/site-packages (from alembic!=1.10.0,<2->mlflow) (1.3.10)\n",
            "Requirement already satisfied: urllib3>=1.26.0 in /anaconda/envs/azureml_py310_sdkv2/lib/python3.10/site-packages (from docker<8,>=4.0.0->mlflow) (2.4.0)\n",
            "Requirement already satisfied: Werkzeug>=3.1 in /anaconda/envs/azureml_py310_sdkv2/lib/python3.10/site-packages (from Flask<4->mlflow) (3.1.3)\n",
            "Requirement already satisfied: itsdangerous>=2.2 in /anaconda/envs/azureml_py310_sdkv2/lib/python3.10/site-packages (from Flask<4->mlflow) (2.2.0)\n",
            "Requirement already satisfied: blinker>=1.9 in /anaconda/envs/azureml_py310_sdkv2/lib/python3.10/site-packages (from Flask<4->mlflow) (1.9.0)\n",
            "Requirement already satisfied: graphql-core<3.3,>=3.1 in /anaconda/envs/azureml_py310_sdkv2/lib/python3.10/site-packages (from graphene<4->mlflow) (3.2.6)\n",
            "Requirement already satisfied: graphql-relay<3.3,>=3.1 in /anaconda/envs/azureml_py310_sdkv2/lib/python3.10/site-packages (from graphene<4->mlflow) (3.2.0)\n",
            "Requirement already satisfied: python-dateutil<3,>=2.7.0 in /anaconda/envs/azureml_py310_sdkv2/lib/python3.10/site-packages (from graphene<4->mlflow) (2.9.0.post0)\n",
            "Requirement already satisfied: MarkupSafe>=2.0 in /anaconda/envs/azureml_py310_sdkv2/lib/python3.10/site-packages (from Jinja2<4,>=2.11->mlflow) (3.0.2)\n",
            "Requirement already satisfied: contourpy>=1.0.1 in /anaconda/envs/azureml_py310_sdkv2/lib/python3.10/site-packages (from matplotlib<4->mlflow) (1.3.2)\n",
            "Requirement already satisfied: cycler>=0.10 in /anaconda/envs/azureml_py310_sdkv2/lib/python3.10/site-packages (from matplotlib<4->mlflow) (0.12.1)\n",
            "Requirement already satisfied: fonttools>=4.22.0 in /anaconda/envs/azureml_py310_sdkv2/lib/python3.10/site-packages (from matplotlib<4->mlflow) (4.57.0)\n",
            "Requirement already satisfied: kiwisolver>=1.3.1 in /anaconda/envs/azureml_py310_sdkv2/lib/python3.10/site-packages (from matplotlib<4->mlflow) (1.4.8)\n",
            "Requirement already satisfied: pillow>=8 in /anaconda/envs/azureml_py310_sdkv2/lib/python3.10/site-packages (from matplotlib<4->mlflow) (11.2.1)\n",
            "Requirement already satisfied: pyparsing>=2.3.1 in /anaconda/envs/azureml_py310_sdkv2/lib/python3.10/site-packages (from matplotlib<4->mlflow) (3.2.3)\n",
            "Requirement already satisfied: pytz>=2020.1 in /anaconda/envs/azureml_py310_sdkv2/lib/python3.10/site-packages (from pandas<3->mlflow) (2025.2)\n",
            "Requirement already satisfied: tzdata>=2022.7 in /anaconda/envs/azureml_py310_sdkv2/lib/python3.10/site-packages (from pandas<3->mlflow) (2025.2)\n",
            "Requirement already satisfied: greenlet>=1 in /anaconda/envs/azureml_py310_sdkv2/lib/python3.10/site-packages (from sqlalchemy<3,>=1.4.0->mlflow) (3.2.1)\n",
            "Requirement already satisfied: google-auth~=2.0 in /anaconda/envs/azureml_py310_sdkv2/lib/python3.10/site-packages (from databricks-sdk<1,>=0.20.0->mlflow-skinny==2.21.3->mlflow) (2.39.0)\n",
            "Requirement already satisfied: starlette<0.47.0,>=0.40.0 in /anaconda/envs/azureml_py310_sdkv2/lib/python3.10/site-packages (from fastapi<1->mlflow-skinny==2.21.3->mlflow) (0.46.2)\n",
            "Requirement already satisfied: gitdb<5,>=4.0.1 in /anaconda/envs/azureml_py310_sdkv2/lib/python3.10/site-packages (from gitpython<4,>=3.1.9->mlflow-skinny==2.21.3->mlflow) (4.0.12)\n",
            "Requirement already satisfied: zipp>=3.20 in /anaconda/envs/azureml_py310_sdkv2/lib/python3.10/site-packages (from importlib_metadata!=4.7.0,<9,>=3.7.0->mlflow-skinny==2.21.3->mlflow) (3.21.0)\n",
            "Requirement already satisfied: deprecated>=1.2.6 in /anaconda/envs/azureml_py310_sdkv2/lib/python3.10/site-packages (from opentelemetry-api<3,>=1.9.0->mlflow-skinny==2.21.3->mlflow) (1.2.18)\n",
            "Requirement already satisfied: opentelemetry-semantic-conventions==0.52b1 in /anaconda/envs/azureml_py310_sdkv2/lib/python3.10/site-packages (from opentelemetry-sdk<3,>=1.9.0->mlflow-skinny==2.21.3->mlflow) (0.52b1)\n",
            "Requirement already satisfied: annotated-types>=0.6.0 in /anaconda/envs/azureml_py310_sdkv2/lib/python3.10/site-packages (from pydantic<3,>=1.10.8->mlflow-skinny==2.21.3->mlflow) (0.7.0)\n",
            "Requirement already satisfied: pydantic-core==2.33.1 in /anaconda/envs/azureml_py310_sdkv2/lib/python3.10/site-packages (from pydantic<3,>=1.10.8->mlflow-skinny==2.21.3->mlflow) (2.33.1)\n",
            "Requirement already satisfied: typing-inspection>=0.4.0 in /anaconda/envs/azureml_py310_sdkv2/lib/python3.10/site-packages (from pydantic<3,>=1.10.8->mlflow-skinny==2.21.3->mlflow) (0.4.0)\n",
            "Requirement already satisfied: six>=1.5 in /anaconda/envs/azureml_py310_sdkv2/lib/python3.10/site-packages (from python-dateutil<3,>=2.7.0->graphene<4->mlflow) (1.17.0)\n",
            "Requirement already satisfied: charset-normalizer<4,>=2 in /anaconda/envs/azureml_py310_sdkv2/lib/python3.10/site-packages (from requests<3,>=2.17.3->mlflow-skinny==2.21.3->mlflow) (3.4.1)\n",
            "Requirement already satisfied: idna<4,>=2.5 in /anaconda/envs/azureml_py310_sdkv2/lib/python3.10/site-packages (from requests<3,>=2.17.3->mlflow-skinny==2.21.3->mlflow) (3.10)\n",
            "Requirement already satisfied: certifi>=2017.4.17 in /anaconda/envs/azureml_py310_sdkv2/lib/python3.10/site-packages (from requests<3,>=2.17.3->mlflow-skinny==2.21.3->mlflow) (2025.1.31)\n",
            "Requirement already satisfied: h11>=0.8 in /anaconda/envs/azureml_py310_sdkv2/lib/python3.10/site-packages (from uvicorn<1->mlflow-skinny==2.21.3->mlflow) (0.14.0)\n",
            "Requirement already satisfied: wrapt<2,>=1.10 in /anaconda/envs/azureml_py310_sdkv2/lib/python3.10/site-packages (from deprecated>=1.2.6->opentelemetry-api<3,>=1.9.0->mlflow-skinny==2.21.3->mlflow) (1.17.2)\n",
            "Requirement already satisfied: smmap<6,>=3.0.1 in /anaconda/envs/azureml_py310_sdkv2/lib/python3.10/site-packages (from gitdb<5,>=4.0.1->gitpython<4,>=3.1.9->mlflow-skinny==2.21.3->mlflow) (5.0.2)\n",
            "Requirement already satisfied: pyasn1-modules>=0.2.1 in /anaconda/envs/azureml_py310_sdkv2/lib/python3.10/site-packages (from google-auth~=2.0->databricks-sdk<1,>=0.20.0->mlflow-skinny==2.21.3->mlflow) (0.4.2)\n",
            "Requirement already satisfied: rsa<5,>=3.1.4 in /anaconda/envs/azureml_py310_sdkv2/lib/python3.10/site-packages (from google-auth~=2.0->databricks-sdk<1,>=0.20.0->mlflow-skinny==2.21.3->mlflow) (4.9.1)\n",
            "Requirement already satisfied: anyio<5,>=3.6.2 in /anaconda/envs/azureml_py310_sdkv2/lib/python3.10/site-packages (from starlette<0.47.0,>=0.40.0->fastapi<1->mlflow-skinny==2.21.3->mlflow) (4.9.0)\n",
            "Requirement already satisfied: exceptiongroup>=1.0.2 in /anaconda/envs/azureml_py310_sdkv2/lib/python3.10/site-packages (from anyio<5,>=3.6.2->starlette<0.47.0,>=0.40.0->fastapi<1->mlflow-skinny==2.21.3->mlflow) (1.2.2)\n",
            "Requirement already satisfied: sniffio>=1.1 in /anaconda/envs/azureml_py310_sdkv2/lib/python3.10/site-packages (from anyio<5,>=3.6.2->starlette<0.47.0,>=0.40.0->fastapi<1->mlflow-skinny==2.21.3->mlflow) (1.3.1)\n",
            "Requirement already satisfied: pyasn1<0.7.0,>=0.6.1 in /anaconda/envs/azureml_py310_sdkv2/lib/python3.10/site-packages (from pyasn1-modules>=0.2.1->google-auth~=2.0->databricks-sdk<1,>=0.20.0->mlflow-skinny==2.21.3->mlflow) (0.6.1)\n",
            "Looking in indexes: https://test.pypi.org/simple/\n",
            "Requirement already satisfied: xaiflow in /anaconda/envs/azureml_py310_sdkv2/lib/python3.10/site-packages (0.1.0rc4)\n"
          ]
        }
      ],
      "source": [
        "!{sys.executable} -m pip install mlflow scikit-learn\n",
        "!{sys.executable} -m pip install -i https://test.pypi.org/simple/ xaiflow --no-deps"
      ]
    },
    {
      "cell_type": "code",
      "execution_count": null,
      "metadata": {
        "gather": {
          "logged": 1752748287418
        }
      },
      "outputs": [],
      "source": [
        "import mlflow\n",
        "from azureml.core import Workspace\n",
        "\n",
        "ws = Workspace(subscription_id=\"<subscription-id>\",\n",
        "               resource_group=\"<resource-group>\",\n",
        "               workspace_name=\"<azure-machine-learning-workspace-name>\")\n",
        "\n",
        "mlflow.set_tracking_uri(ws.get_mlflow_tracking_uri())"
      ]
    },
    {
      "cell_type": "code",
      "execution_count": null,
      "metadata": {},
      "outputs": [],
      "source": [
        "import mlflow\n",
        "import shap\n",
        "from sklearn.ensemble import RandomForestRegressor\n",
        "from sklearn.model_selection import train_test_split\n",
        "from sklearn.datasets import fetch_openml\n",
        "from sklearn.preprocessing import LabelEncoder\n",
        "\n",
        "\n",
        "from xaiflow import XaiflowPlugin"
      ]
    },
    {
      "cell_type": "code",
      "execution_count": null,
      "metadata": {},
      "outputs": [],
      "source": [
        "# Load the Auto MPG dataset\n",
        "data = fetch_openml(data_id=196, as_frame=True)\n",
        "X = data.data.copy()\n",
        "y = data.target"
      ]
    },
    {
      "cell_type": "code",
      "execution_count": null,
      "metadata": {
        "gather": {
          "logged": 1752748305726
        }
      },
      "outputs": [
        {
          "name": "stderr",
          "output_type": "stream",
          "text": [
            "/anaconda/envs/azureml_py310_sdkv2/lib/python3.10/site-packages/tqdm/auto.py:21: TqdmWarning: IProgress not found. Please update jupyter and ipywidgets. See https://ipywidgets.readthedocs.io/en/stable/user_install.html\n",
            "  from .autonotebook import tqdm as notebook_tqdm\n",
            "Matplotlib is building the font cache; this may take a moment.\n",
            "2025/07/17 10:31:41 INFO mlflow.tracking.fluent: Experiment with name 'Xaiflow_Auto_MPG_Test' does not exist. Creating a new experiment.\n"
          ]
        },
        {
          "name": "stdout",
          "output_type": "stream",
          "text": [
            "Loaded bundle.js content (220962 characters)\n",
            "Feature importance report logged to MLflow: reports/test_report_auto_mpg.html\n",
            "Run ID: 03faefff-926a-4636-b6db-0d19badd4270. If you are running mlflow locally use:\n",
            "python -m mlflow ui --port 5000\n",
            "Then open http://localhost:5000/#/experiments/f736cf25-4070-4d19-9520-7483dd552310/runs/03faefff-926a-4636-b6db-0d19badd4270 to view the report. Note: it's important to start mlflow in the directory in which you execute the notebook.\n",
            "🏃 View run auto_mpg_test at: https://germanywestcentral.api.azureml.ms/mlflow/v2.0/subscriptions/833c076a-825d-4689-b1d6-5998efc79936/resourceGroups/t3-cloudexplain-tf/providers/Microsoft.MachineLearningServices/workspaces/dummy-aml/#/experiments/f736cf25-4070-4d19-9520-7483dd552310/runs/03faefff-926a-4636-b6db-0d19badd4270\n",
            "🧪 View experiment at: https://germanywestcentral.api.azureml.ms/mlflow/v2.0/subscriptions/833c076a-825d-4689-b1d6-5998efc79936/resourceGroups/t3-cloudexplain-tf/providers/Microsoft.MachineLearningServices/workspaces/dummy-aml/#/experiments/f736cf25-4070-4d19-9520-7483dd552310\n"
          ]
        }
      ],
      "source": [
        "experiment_name = \"Xaiflow_Auto_MPG_Test\"\n",
        "mlflow.set_experiment(experiment_name=experiment_name)\n",
        "with mlflow.start_run(run_name=\"auto_mpg_test\"):\n",
        "    # Identify categorical columns\n",
        "    categorical_cols = [col for col in X.columns if X[col].dtype == 'category' or X[col].dtype == 'object']\n",
        "    numeric_cols = [col for col in X.columns if col not in categorical_cols]\n",
        "\n",
        "    label_encoders = {}\n",
        "\n",
        "    # Fill missing values manually\n",
        "    for col in numeric_cols:\n",
        "        X[col] = X[col].astype(float).fillna(X[col].mean())\n",
        "    for col in categorical_cols:\n",
        "        le = LabelEncoder()\n",
        "        X[col + '_encoded'] = le.fit_transform(X[col].astype(str))  # convert to string in case of NaNs\n",
        "        label_encoders[col] = le  # Save encoder if needed later\n",
        "\n",
        "    # Train model\n",
        "    rfc = RandomForestRegressor()\n",
        "    rfc.fit(X, y)\n",
        "    ex = shap.TreeExplainer(rfc)\n",
        "    shap_values = ex(X)\n",
        "    plugin = XaiflowPlugin()\n",
        "\n",
        "    feature_encodings = {}\n",
        "    for col in categorical_cols:\n",
        "        feature_encodings[col + '_encoded'] = dict(zip(range(len(label_encoders[col].classes_)), label_encoders[col].classes_))\n",
        "    feature_encodings = {'cylinders_encoded': {0: '3', 1: '4', 2: '5', 3: '6', 4: '8'},\n",
        "                            'model_encoded': {0: 'Super 70', 1: 'Super 71', 2: 'Low 72', 3: 'Nice 73', 4: 'Great 74', 5: 'Lame 75', 6: 'High 76', 7: '77', 8: '78', 9: '79', 10: '80', 11: '81', 12: '82'},\n",
        "                            'origin_encoded': {0: 'Afghanistan', 1: 'Bangladesh', 2: 'Maui'}}\n",
        "    artifact_path = plugin.log_xai_report(\n",
        "        feature_names=list(X.columns),\n",
        "        shap_values=shap_values,\n",
        "        feature_encodings=feature_encodings\n",
        "    )\n",
        "    run_id = mlflow.active_run().info.run_id\n",
        "    print(f\"Run ID: {run_id}. If you are running mlflow locally use:\\npython -m mlflow ui --port 5000\\nThen open http://localhost:5000/#/experiments/{mlflow.get_experiment_by_name(experiment_name).experiment_id}/runs/{run_id} to view the report.\",\n",
        "          \"Note: it's important to start mlflow in the directory in which you execute the notebook.\")"
      ]
    },
    {
      "cell_type": "code",
      "execution_count": null,
      "metadata": {},
      "outputs": [],
      "source": [
        "!pip freeze | grep shap"
      ]
    },
    {
      "cell_type": "code",
      "execution_count": null,
      "metadata": {
        "gather": {
          "logged": 1752747967720
        }
      },
      "outputs": [],
      "source": [
        "import sys\n",
        "print(sys.executable)"
      ]
    }
  ],
  "metadata": {
    "kernelspec": {
      "display_name": "Python 3.10 - SDK v2",
      "language": "python",
      "name": "python310-sdkv2"
    },
    "language_info": {
      "codemirror_mode": {
        "name": "ipython",
        "version": 3
      },
      "file_extension": ".py",
      "mimetype": "text/x-python",
      "name": "python",
      "nbconvert_exporter": "python",
      "pygments_lexer": "ipython3",
      "version": "3.10.16"
    },
    "microsoft": {
      "host": {
        "AzureML": {
          "notebookHasBeenCompleted": true
        }
      },
      "ms_spell_check": {
        "ms_spell_check_language": "en"
      }
    },
    "nteract": {
      "version": "nteract-front-end@1.0.0"
    }
  },
  "nbformat": 4,
  "nbformat_minor": 2
}
